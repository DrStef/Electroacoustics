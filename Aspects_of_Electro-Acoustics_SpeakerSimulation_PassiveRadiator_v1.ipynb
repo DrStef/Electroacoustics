{
 "cells": [
  {
   "cell_type": "markdown",
   "id": "61568bb4",
   "metadata": {},
   "source": [
    "##  Aspects of Electro-Acoustics\n",
    "\n",
    "##  40-mm speaker in a 100cc enclosure + Passive Radiator.\n",
    "### Simulations, validation with WinISD. \n",
    "\n",
    "Stephane Dedieu, March 2023\n",
    "\n",
    "\n",
    "These programs were developped for clients in a consulting practice, back in 2006-2009. <br> \n",
    "Initially all codes were Matlab or open source Scilab scripts. <br>\n",
    "We coded them \"as is\" in Python. \n",
    "\n"
   ]
  },
  {
   "cell_type": "markdown",
   "id": "9aa8acf7",
   "metadata": {},
   "source": [
    "### Stetron Speaker 40-mm \n",
    "\n",
    "<span style=\"color:#4169E1\"> Old 4 Ohms 40 mm speaker by Stetron. <br>\n",
    "Its Thiele-small parameters were measured.  <br>\n",
    "\n",
    "| parameter| value| units |\n",
    "| :--- |  :--- | :--- |\n",
    "|f_0  | $$176.23$$ |   $$Hz$$ |\n",
    "|Re  | $$3.48$$   |  $$ohms$$|  \n",
    "|Sd  | $$10.7 \\; 10^{-4}$$|  $$m^2$$ |\n",
    "|Vas | $$22.\\; 10^{-6}$$| $$m^3$$  |\n",
    "|Mmd | $$6, 10^{-3}$$ | $$kg$$ |           \n",
    "|Bl  | $$3.4$$ | $$T.m$$ |\n",
    "|Levc| $$0.015$$  | $$mH$$|         \n",
    "|Qms | $$3.5$$    |     |\n",
    "|Qes | $$2$$      |     |\n",
    "|Qts | $$1.273$$  |     |\n",
    "| Rm | $$1.89$$  | $$ohms$$ |\n",
    "\n",
    "<span style=\"color:#4169E1\"> Passive T/S parameters are shown below. Passive Radiator mass was tuned, for a resonance frequency $f_{0pr}$ close to 65 Hz.  \n",
    "\n",
    "|parameter| value        | units |\n",
    "| ---     |  ---         | ---   |\n",
    "| Vaspr   | $$40.10^{-6}$$ | $$m^3$$ |\n",
    "| Sdpr    | $$22.10^{-4}$$ | $$m^2$$ |\n",
    "| Mmdpr   | $$24.10^{-3}$$ | $$kg$$  |\n",
    "| Qmspr   |    $$9$$       |         |"
   ]
  },
  {
   "cell_type": "markdown",
   "id": "6efdfbb3",
   "metadata": {},
   "source": [
    "|<img src=\"D0040.jpg\" width=\"200\" height=\"200\">     |  \n",
    "| --- | \n",
    "| <center> 4 Ohms - 40-mm  Stetron speaker </center>    | "
   ]
  },
  {
   "cell_type": "markdown",
   "id": "7c2cd1f1",
   "metadata": {},
   "source": [
    "<b> Validation </b>  <br>\n",
    "    \n",
    "<span style=\"color:#4169E1\"> We validate our model with WinISD. <br>  WinISD by LinearTeam http://www.linearteam.org/ is an open source tool for simulating loudspeakers in various enclosures: closed, ported, passive radiator. Based on lumped parameters. <br>     \n",
    "The Scilab/Matlab script was initially developped to design miniature speaker systems with passive radiators. WinISD is not well suited for miniature speakers and Thiele-Small parameters having very small values. Conversion are necessary and generally prone to errors.  <br>  \n",
    "Overall, our model matches WinISD simulation pretty well except for the damping around the pasive radiator resonance. And at very low frequency the match is not perfect. <br>\n",
    "Mismath maybe due to:   \n",
    "- <span style=\"color:#4169E1\">slow leak in the enclosure: \"resitor\" model (fluid viscosity).\n",
    "- <span style=\"color:#4169E1\">different model for acoustic impedance: added mass by the fluid (air), complex radiating impedance: resistor (loss). \n",
    "\n",
    "<span style=\"color:#4169E1\"> In further works, we will analyse radiation impedance models and damping models, used by the team at LinearTeam compared with Leo Beranek's models.  \n",
    "   \n",
    "| <img src=\"Speaker_with_PassiveRadiator_Matlab_v2.png\" width=\"400\">     |   <img src=\"Speaker_with_PassiveRadiator_WinISD_v1.png\" width=\"350\"> |\n",
    "| --- | ---  |\n",
    "| <center> Our simulation (Matlab) </center>    | <center>Simulation with WinISD </center>     |    \n",
    "    \n",
    "      \n",
    "    \n",
    "    \n",
    "<span style=\"color:#4169E1\"> <b> References:</b> <br>\n",
    "[1] Leo Beranek “Acoustics”, 1993 Edition"
   ]
  },
  {
   "cell_type": "markdown",
   "id": "6860402c",
   "metadata": {},
   "source": [
    "###  Speaker in a enclosure + Passive Radiator"
   ]
  },
  {
   "cell_type": "markdown",
   "id": "188884ac",
   "metadata": {},
   "source": [
    "<span style=\"color:#4169E1\"> Impedance model of a speaker in an enclosure with a passive radiator."
   ]
  },
  {
   "cell_type": "markdown",
   "id": "81e82f66",
   "metadata": {},
   "source": [
    "\n",
    "| <img src=\"PassiveRadiatorBox.png\" width=\"150\">     |   <img src=\"EQCircuit_BassReflex.png\" width=\"500\"> |\n",
    "| --- | ---  |\n",
    "| <center>Speaker enclosure with passive radiator</center>| <center>Bass-reflex Equivalent Circuit </center>|"
   ]
  },
  {
   "cell_type": "markdown",
   "id": "ceada166",
   "metadata": {},
   "source": [
    "<span style=\"color:#4169E1\"> The model of a speaker enclosure with a passive radiator is a variant of the ported enclosure shown above. The \"port\" equivalent RL circuit must be replaced with a RLC circuit, with:\n",
    "    \n",
    "- <span style=\"color:#4169E1\">Rpr: passive radiator damping (+acoustic radiated impedance: loss)\n",
    "- <span style=\"color:#4169E1\">Lpr: mass of the passive radiator cone (+ mass added by air)\n",
    "- <span style=\"color:#4169E1\">Cpr: compliance of passive radiator suspension. "
   ]
  },
  {
   "cell_type": "markdown",
   "id": "04e211e0",
   "metadata": {},
   "source": [
    "### Python script"
   ]
  },
  {
   "cell_type": "code",
   "execution_count": 24,
   "id": "4d3ab604",
   "metadata": {},
   "outputs": [],
   "source": [
    "import os\n",
    "import pywt\n",
    "#from wavelets.wave_python.waveletFunctions import *\n",
    "import itertools\n",
    "import numpy as np\n",
    "import pandas as pd\n",
    "from scipy.fftpack import fft\n",
    "from collections import Counter\n",
    "import matplotlib.pyplot as plt\n",
    "import matplotlib.gridspec as gridspec\n",
    "from mpl_toolkits.axes_grid1 import make_axes_locatable\n",
    "import matplotlib.pyplot as plt\n",
    "import matplotlib.gridspec as gridspec\n",
    "import matplotlib.patches as patches"
   ]
  },
  {
   "cell_type": "code",
   "execution_count": 25,
   "id": "7ea4f604",
   "metadata": {},
   "outputs": [],
   "source": [
    "import scipy\n",
    "from scipy import signal\n",
    "from skimage import util\n",
    "from scipy.signal import general_gaussian\n",
    "from scipy.signal import savgol_filter\n",
    "from scipy.fftpack import fft, fftshift\n",
    "import cmath\n",
    "import math"
   ]
  },
  {
   "cell_type": "code",
   "execution_count": 26,
   "id": "7b1b9a72",
   "metadata": {},
   "outputs": [],
   "source": [
    "def parallel(z1,z2) :\n",
    "    z = (z1*z2)/(z1+z2)\n",
    "    return z\n",
    "\n",
    "def series(z1,z2) :\n",
    "    z = z1 + z2    \n",
    "    return z"
   ]
  },
  {
   "cell_type": "code",
   "execution_count": 27,
   "id": "4b972d55",
   "metadata": {},
   "outputs": [],
   "source": [
    "#------------------\n",
    "#Acoustic constants\n",
    "#------------------\n",
    "ro = 1.21  # Air density (kg/m3) \n",
    "cel = 340  # Sound celerity m/s\n",
    "afreq= np.arange(10, 10000, 1, dtype=int) # frequency range for simluation\n",
    "w = (2*np.pi)*afreq     # circular frequency (rad/s)\n",
    "k = w/cel               # wavenumber rad/m              "
   ]
  },
  {
   "cell_type": "code",
   "execution_count": 48,
   "id": "17ec73c3",
   "metadata": {},
   "outputs": [],
   "source": [
    "#=============================================================\n",
    "#  Frequency response of a speaker  - in a baffle          \n",
    "#                                   - in a sealed enclosure\n",
    "#                                   - in a ported enclosure\n",
    "# \n",
    "#  Reviewed Stephane - 11 Septembre 2007 \n",
    "#  Reviewed Stephane - May 1st, 2009\n",
    "#=============================================================\n",
    "#\n",
    "#============  Thiele Small Parameters (Electro-Mechanical Parameters) ==========================\n",
    "#------------  Stetron 40-mm speaker  ---------\n",
    "f0 = 176.23;   # 1st Resonance Frequency (Hz)\n",
    "w0 = (2*np.pi)*f0;\n",
    "Re = 3.48;    # Voice Coil DC resistance (Ohms)\n",
    "Sd = 10.7e-04;         # Diaphragm Area (m2)\n",
    "Vas = 22.00e-06;\n",
    "# Equivalent volume (m3) - linked to suspension compliance\n",
    "ksv = ((ro*(cel**2))*(Sd**2))/Vas;\n",
    "# Suspension stiffness  (N/m)\n",
    "#-----------------------------------------------\n",
    "Mmd =  6e-03;\n",
    "# Mass of speaker cone + voice coil  (kg) includes air added mass             \n",
    "Bl = 3.4;\n",
    "# Force factor Bl(Tesla.m) \n",
    "# B= Magnetic flux density in air gap, l= length of voice coil wire \n",
    "# force on voice coil= Bl*i     (i=current)\n",
    "Levc = 0.015;\n",
    "# Voice coil inductance (Added 14 sept)\n",
    "#-----------------------------------------------                            \n",
    "Qms = 3.5;\n",
    "# Mechanical Q at f0\n",
    "Qes = 2;\n",
    "# Electrical Q at f0\n",
    "Qts = 1.273;\n",
    "# Total quality factor at f0:   Qts=Qms*Qes/(Qms+Qes) \n",
    "Rm = (((2*np.pi)*f0)*Mmd)/Qms\n",
    "\n",
    "#Qms=(((2*np.pi)*f0)*Mmd)/Rm;\n",
    "#Qes = 2*np.pi*f0*Re*Mmd/Bl**2;\n",
    "#Qts=Qms*Qes/(Qms+Qes);\n",
    "#\n",
    "# Mechanical resistance from Qms definition: (Qms=2*np.pi*f0*Mmd/Rm) \n",
    "#====================\n",
    "Ze = Re+(Levc*1j)*w;\n",
    "# Voice coil Impedance (replaces Re) Added 14 Septembre 2007"
   ]
  },
  {
   "cell_type": "code",
   "execution_count": 29,
   "id": "64a5e714",
   "metadata": {},
   "outputs": [],
   "source": [
    "#=================================================================================================\n",
    "#              Sound Pressure radiated by the speaker in an infinite Baffle \n",
    "#              FOR VALIDATIONS PURPOSES ONLY (to be compared with TangBand measurement 1W/1meter)\n",
    "#=================================================================================================\n",
    "# \n",
    "rr =   1;                 # Computation at  1 meter\n",
    "rrport=1;\n",
    "Em =   2.0;              # Input voltage (V) ~ Sweep sine\n",
    "Em =  np.sqrt(Re);       # Input voltage (V) for 1W input ~ Sweep sine\n",
    "pbaffle = (((((Em*Bl)*ro)*Sd)/((((2*np.pi)*Re)*Mmd)*rr))*((w/w0) **2)) /(1+(1j *w) /(Qts*w0)-(w /w0) **2);\n",
    "#--------------------------\n",
    "#  volume velocity  q=Sd*ud\n",
    "#--------------------------\n",
    "ud = ((Em*Bl) /Ze) /((Bl**2) /Ze+(Mmd*1j) *w+ksv /(1j *w));\n",
    "#\n",
    "pdirect = (((((1j*ro) *w) *ud)*Sd) *np.exp(-(1j *k)*rr))/((2*np.pi)*rr);"
   ]
  },
  {
   "cell_type": "code",
   "execution_count": 45,
   "id": "1d655b57",
   "metadata": {},
   "outputs": [],
   "source": [
    "#======================================================================\n",
    "#           SPEAKER  Enclosure Parameters + Electrical Parameters          |\n",
    "#======================================================================\n",
    "Vbcc= 100;                        # Enclosure volume (cm3)\n",
    "Vb=Vbcc*1e-06;\n",
    "#-------------\n",
    "kb = ((ro*(cel**2))*(Sd**2))/Vb;    # Enclosure \"stiffness\" N.m    \n",
    "#-----------------------------\n",
    "#Ma = Air Added Mass enclosure\n",
    "#-----------------------------\n",
    "a = np.sqrt(Sd/np.pi);   # diaphragm radius \n",
    "RAR2=(ro*cel*w**2)/(np.pi*(w**2*a**2 + 2*cel**2));  # dissipation\n",
    "Rm =   Rm + RAR2*Sd**2\n",
    "Ma1 = (((8*ro)*Sd)*a)/(3*np.pi);\n",
    "M = Mmd+Ma1;\n",
    "#M=Mmd;\n",
    "#-----------------------------\n",
    "# Speaker suspension Stiffness\n",
    "#-----------------------------\n",
    "Cas = Vas/(ro*(cel**2));\n",
    "Cms = Cas/(Sd**2);\n",
    "ks=1/Cms;\n",
    "#\n",
    "ksealed = ks+kb;\n",
    "#==================================\n",
    "# Speaker + Enclosure stiffness\n",
    "#==================================\n",
    "w0s = np.sqrt(ksealed/M);         # Speaker f0 in the sealed enclosure\n",
    "f0s = w0s/(2*np.pi);\n",
    "Qtsenc = np.sqrt(ksealed*M)/(Rm+(Bl**2)/Re);\n",
    "Cmb=1/kb;\n",
    "#======================================================\n",
    "#                 PASSIVE RADIATOR CHARACTERISTICS\n",
    "#======================================================\n",
    "Sdpr = 22e-4      # Diaphragm Area (m2)\n",
    "Vaspr =  40e-06   # Equivalent volume (m3) - linked to suspension compliance\n",
    "ksvpr = ((ro*(cel**2))*(Sd**2))/Vaspr  # Suspension stiffness  (N/m)\n",
    "CMpr=1/ksvpr   # Suspension compliance\n",
    "#-----------------------------------------------\n",
    "Mmdpr =4*6e-03         #   kg   Tuning the Passive Radiator Mass\n",
    "apr = np.sqrt(Sdpr/np.pi)   # passive radiator radius \n",
    "Mapr = (((8*ro)*Sdpr)*apr)/(3*np.pi)\n",
    "Mmdpr=Mmdpr+Mapr \n",
    "#-----------------------------------------------\n",
    "f0pr=(1/(2*np.pi))*np.sqrt(ksvpr/Mmdpr)\n",
    "#-----------------------------------------------                            \n",
    "Qmspr =9\n",
    "RAR2=(ro*cel*w**2)/(np.pi*(w**2*apr**2 + 2*cel**2))  # dissipation\n",
    "\n",
    "Rmpr = (((2*np.pi)*f0pr)*Mmdpr)/Qmspr \n",
    "\n",
    "#Rmpr =   Rmpr + RAR2*Sdpr**2 "
   ]
  },
  {
   "cell_type": "code",
   "execution_count": 43,
   "id": "801fadae",
   "metadata": {},
   "outputs": [],
   "source": [
    "#=============  Sound Pressure radiaated by the speaker in an enclosurezspeaker=  M*(1j*w) +  (Rm+ Bl**2/Re)+ ( 1 /(Cms*(1j*w)));\n",
    "#\n",
    "pg=Em*Bl/(Sd*Re);          #  Newtons/m2\n",
    "\n",
    "pg=2*pg;                   # \"1jNF1jN1jTE BAFFLE\": + 6dB\n",
    "\n",
    "zel1=Levc*Sd**2/Bl**2;\n",
    "zel2=Bl**2/(Re*Sd**2);\n",
    "\n",
    "# zarport=(RAR2 + MAR2*(1j*w))*Sd**2;\n",
    "\n",
    "zelec=parallel(zel1,zel2);\n",
    "#\n",
    "zspeaker=  M*(1j*w) + Rm + ( 1 /(Cms*(1j*w))) + zel2*Sd**2;\n",
    "#\n",
    "zcavity=( Rs   +  1  /(Cmb*(1j*w)));           #   Rs effect of a leak 1jn the cav1jty\n",
    "\n",
    "\n",
    "# Pass1jve rad1jator 1jmpedance \n",
    "Zspr=Mmdpr*(1j*w) + Rmpr + ( 1 /(CMpr*(1j*w)));  \n",
    "#--------------------------------\n",
    "\n",
    "Z1=parallel(zcavity,Zspr);\n",
    "#\n",
    "Ztotal=zspeaker+Z1;\n",
    "Zclosed=series(zspeaker,zcavity);  \n",
    "\n",
    "\n",
    "Ud=pg/Ztotal;\n",
    "\n",
    "Uclosed=pg/Zclosed;\n",
    "\n",
    "Up1=Ud/(1+Zspr/zcavity);\n",
    "\n",
    "\n",
    "pud=(ro*Sd**2/(4*np.pi*rr))*np.exp(-(1j *k)*rr  )*1j*w*Ud ; \n",
    "puclose=(ro*Sd**2/(4*np.pi*rr))*np.exp(-(1j *k)*rr  )*1j*w*Uclosed; \n",
    "pup1=(ro*Sd**2/(4*np.pi*rrport))*np.exp(-(1j *k)*rr  )*1j*w*Up1; \n",
    "\n",
    "\n",
    "\n",
    "puu=pud-pup1;  "
   ]
  },
  {
   "cell_type": "code",
   "execution_count": 51,
   "id": "99756f2f",
   "metadata": {},
   "outputs": [
    {
     "data": {
      "image/png": "[encoded data removed]",
      "text/plain": [
       "<Figure size 432x288 with 1 Axes>"
      ]
     },
     "metadata": {
      "needs_background": "light"
     },
     "output_type": "display_data"
    }
   ],
   "source": [
    "plt.semilogx(afreq,20*np.log10(abs(puu)/0.00002),'r')\n",
    "plt.semilogx(afreq,20*np.log10(abs(puclose)/0.00002),'b')\n",
    "\n",
    "plt.grid(b=True, which='major', color='grey', linestyle='-')\n",
    "plt.grid(b=True, which='minor', color='grey', linestyle='--')\n",
    "plt.ylim(20,100);\n",
    "plt.xlabel('Frequency (Hz)');\n",
    "plt.ylabel('dB SPL');\n",
    "plt.legend(['Sealed Enclosure', 'Passive radiator']);\n",
    "plt.title('Frequency Response Stetron 40mm in '+str(Vbcc)+' cc enclosure');"
   ]
  },
  {
   "cell_type": "code",
   "execution_count": null,
   "id": "caad625e",
   "metadata": {},
   "outputs": [],
   "source": []
  },
  {
   "cell_type": "markdown",
   "id": "2cd23157",
   "metadata": {},
   "source": [
    " "
   ]
  }
 ],
 "metadata": {
  "kernelspec": {
   "display_name": "Python 3 (ipykernel)",
   "language": "python",
   "name": "python3"
  },
  "language_info": {
   "codemirror_mode": {
    "name": "ipython",
    "version": 3
   },
   "file_extension": ".py",
   "mimetype": "text/x-python",
   "name": "python",
   "nbconvert_exporter": "python",
   "pygments_lexer": "ipython3",
   "version": "3.9.7"
  }
 },
 "nbformat": 4,
 "nbformat_minor": 5
}
